{
 "cells": [
  {
   "cell_type": "code",
   "execution_count": 7,
   "metadata": {},
   "outputs": [
    {
     "name": "stdout",
     "output_type": "stream",
     "text": [
      "Defaulting to user installation because normal site-packages is not writeable"
     ]
    },
    {
     "name": "stderr",
     "output_type": "stream",
     "text": [
      "\n",
      "[notice] A new release of pip is available: 23.1.2 -> 23.2.1\n",
      "[notice] To update, run: python.exe -m pip install --upgrade pip\n"
     ]
    },
    {
     "name": "stdout",
     "output_type": "stream",
     "text": [
      "\n",
      "Requirement already satisfied: kafka-python in c:\\users\\nimesha\\appdata\\roaming\\python\\python311\\site-packages (2.0.2)\n",
      "Defaulting to user installation because normal site-packages is not writeable\n",
      "Requirement already satisfied: spotipy in c:\\users\\nimesha\\appdata\\roaming\\python\\python311\\site-packages (2.23.0)\n",
      "Requirement already satisfied: redis>=3.5.3 in c:\\users\\nimesha\\appdata\\roaming\\python\\python311\\site-packages (from spotipy) (5.0.0)\n",
      "Requirement already satisfied: requests>=2.25.0 in c:\\users\\nimesha\\appdata\\roaming\\python\\python311\\site-packages (from spotipy) (2.28.1)\n",
      "Requirement already satisfied: six>=1.15.0 in c:\\users\\nimesha\\appdata\\roaming\\python\\python311\\site-packages (from spotipy) (1.16.0)\n",
      "Requirement already satisfied: urllib3>=1.26.0 in c:\\users\\nimesha\\appdata\\roaming\\python\\python311\\site-packages (from spotipy) (1.26.13)\n",
      "Requirement already satisfied: async-timeout>=4.0.2 in c:\\users\\nimesha\\appdata\\roaming\\python\\python311\\site-packages (from redis>=3.5.3->spotipy) (4.0.3)\n",
      "Requirement already satisfied: charset-normalizer<3,>=2 in c:\\users\\nimesha\\appdata\\roaming\\python\\python311\\site-packages (from requests>=2.25.0->spotipy) (2.1.1)\n",
      "Requirement already satisfied: idna<4,>=2.5 in c:\\users\\nimesha\\appdata\\roaming\\python\\python311\\site-packages (from requests>=2.25.0->spotipy) (3.4)\n",
      "Requirement already satisfied: certifi>=2017.4.17 in c:\\users\\nimesha\\appdata\\roaming\\python\\python311\\site-packages (from requests>=2.25.0->spotipy) (2022.12.7)\n"
     ]
    },
    {
     "name": "stderr",
     "output_type": "stream",
     "text": [
      "\n",
      "[notice] A new release of pip is available: 23.1.2 -> 23.2.1\n",
      "[notice] To update, run: python.exe -m pip install --upgrade pip\n"
     ]
    }
   ],
   "source": [
    "!pip install kafka-python\n",
    "!pip install spotipy"
   ]
  },
  {
   "cell_type": "code",
   "execution_count": 8,
   "metadata": {},
   "outputs": [],
   "source": [
    "import pandas as pd\n",
    "import numpy as np\n",
    "from kafka import KafkaConsumer,KafkaProducer\n",
    "from time import sleep\n",
    "from json import dumps \n",
    "import json\n",
    "import warnings\n",
    "\n"
   ]
  },
  {
   "cell_type": "code",
   "execution_count": 9,
   "metadata": {},
   "outputs": [],
   "source": [
    "producer = KafkaProducer(bootstrap_servers=['3.86.175.25'], #change ip here\n",
    "                         value_serializer=lambda x: \n",
    "                         dumps(x).encode('utf-8'))"
   ]
  },
  {
   "cell_type": "code",
   "execution_count": 10,
   "metadata": {},
   "outputs": [],
   "source": [
    "#Spotify API\n",
    "\n",
    "import spotipy\n",
    "from spotipy.oauth2 import SpotifyClientCredentials\n",
    "client_id = '0a75008d9ab74718a050060ff199e32e'\n",
    "client_secret = '99f47c62e43f45d7bf6a247d0ba9fc75'\n",
    "client_credentials_manager = SpotifyClientCredentials(client_id, client_secret)\n",
    "sp = spotipy.Spotify(client_credentials_manager=client_credentials_manager)"
   ]
  },
  {
   "cell_type": "code",
   "execution_count": 11,
   "metadata": {},
   "outputs": [
    {
     "name": "stdout",
     "output_type": "stream",
     "text": [
      "0\n",
      "50\n",
      "100\n",
      "150\n",
      "200\n",
      "250\n",
      "300\n",
      "350\n",
      "400\n",
      "450\n",
      "500\n",
      "550\n",
      "600\n",
      "650\n",
      "700\n",
      "750\n",
      "800\n",
      "850\n",
      "900\n",
      "950\n",
      "1000\n"
     ]
    },
    {
     "name": "stderr",
     "output_type": "stream",
     "text": [
      "HTTP Error for GET to https://api.spotify.com/v1/search with Params: {'q': 'year:2023', 'limit': 50, 'offset': 1000, 'type': 'track', 'market': ['US', 'CA', 'UK', 'AU', 'KR', 'NZ', 'SG', 'IN']} returned 400 due to Bad request.\n"
     ]
    },
    {
     "ename": "SpotifyException",
     "evalue": "http status: 400, code:-1 - https://api.spotify.com/v1/search?q=year%3A2023&limit=50&offset=1000&type=track&market=US&market=CA&market=UK&market=AU&market=KR&market=NZ&market=SG&market=IN:\n Bad request., reason: None",
     "output_type": "error",
     "traceback": [
      "\u001b[1;31m---------------------------------------------------------------------------\u001b[0m",
      "\u001b[1;31mHTTPError\u001b[0m                                 Traceback (most recent call last)",
      "File \u001b[1;32m~\\AppData\\Roaming\\Python\\Python311\\site-packages\\spotipy\\client.py:271\u001b[0m, in \u001b[0;36mSpotify._internal_call\u001b[1;34m(self, method, url, payload, params)\u001b[0m\n\u001b[0;32m    266\u001b[0m response \u001b[39m=\u001b[39m \u001b[39mself\u001b[39m\u001b[39m.\u001b[39m_session\u001b[39m.\u001b[39mrequest(\n\u001b[0;32m    267\u001b[0m     method, url, headers\u001b[39m=\u001b[39mheaders, proxies\u001b[39m=\u001b[39m\u001b[39mself\u001b[39m\u001b[39m.\u001b[39mproxies,\n\u001b[0;32m    268\u001b[0m     timeout\u001b[39m=\u001b[39m\u001b[39mself\u001b[39m\u001b[39m.\u001b[39mrequests_timeout, \u001b[39m*\u001b[39m\u001b[39m*\u001b[39margs\n\u001b[0;32m    269\u001b[0m )\n\u001b[1;32m--> 271\u001b[0m response\u001b[39m.\u001b[39;49mraise_for_status()\n\u001b[0;32m    272\u001b[0m results \u001b[39m=\u001b[39m response\u001b[39m.\u001b[39mjson()\n",
      "File \u001b[1;32m~\\AppData\\Roaming\\Python\\Python311\\site-packages\\requests\\models.py:1021\u001b[0m, in \u001b[0;36mResponse.raise_for_status\u001b[1;34m(self)\u001b[0m\n\u001b[0;32m   1020\u001b[0m \u001b[39mif\u001b[39;00m http_error_msg:\n\u001b[1;32m-> 1021\u001b[0m     \u001b[39mraise\u001b[39;00m HTTPError(http_error_msg, response\u001b[39m=\u001b[39m\u001b[39mself\u001b[39m)\n",
      "\u001b[1;31mHTTPError\u001b[0m: 400 Client Error: Bad Request for url: https://api.spotify.com/v1/search?q=year%3A2023&limit=50&offset=1000&type=track&market=US&market=CA&market=UK&market=AU&market=KR&market=NZ&market=SG&market=IN",
      "\nDuring handling of the above exception, another exception occurred:\n",
      "\u001b[1;31mSpotifyException\u001b[0m                          Traceback (most recent call last)",
      "Cell \u001b[1;32mIn[11], line 3\u001b[0m\n\u001b[0;32m      1\u001b[0m \u001b[39mfor\u001b[39;00m i \u001b[39min\u001b[39;00m \u001b[39mrange\u001b[39m(\u001b[39m0\u001b[39m,\u001b[39m1500\u001b[39m,\u001b[39m50\u001b[39m):\n\u001b[0;32m      2\u001b[0m     \u001b[39mprint\u001b[39m(i)\n\u001b[1;32m----> 3\u001b[0m     tracks \u001b[39m=\u001b[39m sp\u001b[39m.\u001b[39;49msearch(q\u001b[39m=\u001b[39;49m\u001b[39m'\u001b[39;49m\u001b[39myear:2023\u001b[39;49m\u001b[39m'\u001b[39;49m, \u001b[39mtype\u001b[39;49m \u001b[39m=\u001b[39;49m \u001b[39m'\u001b[39;49m\u001b[39mtrack\u001b[39;49m\u001b[39m'\u001b[39;49m, market \u001b[39m=\u001b[39;49m [\u001b[39m'\u001b[39;49m\u001b[39mUS\u001b[39;49m\u001b[39m'\u001b[39;49m,\u001b[39m'\u001b[39;49m\u001b[39mCA\u001b[39;49m\u001b[39m'\u001b[39;49m,\u001b[39m'\u001b[39;49m\u001b[39mUK\u001b[39;49m\u001b[39m'\u001b[39;49m,\u001b[39m'\u001b[39;49m\u001b[39mAU\u001b[39;49m\u001b[39m'\u001b[39;49m,\u001b[39m'\u001b[39;49m\u001b[39mKR\u001b[39;49m\u001b[39m'\u001b[39;49m,\u001b[39m'\u001b[39;49m\u001b[39mNZ\u001b[39;49m\u001b[39m'\u001b[39;49m,\u001b[39m'\u001b[39;49m\u001b[39mSG\u001b[39;49m\u001b[39m'\u001b[39;49m,\u001b[39m'\u001b[39;49m\u001b[39mIN\u001b[39;49m\u001b[39m'\u001b[39;49m] , limit \u001b[39m=\u001b[39;49m \u001b[39m50\u001b[39;49m, offset \u001b[39m=\u001b[39;49m i)\n\u001b[0;32m      5\u001b[0m     \u001b[39m# Creating an empty lists for track features\u001b[39;00m\n\u001b[0;32m      6\u001b[0m     artist \u001b[39m=\u001b[39m []\n",
      "File \u001b[1;32m~\\AppData\\Roaming\\Python\\Python311\\site-packages\\spotipy\\client.py:587\u001b[0m, in \u001b[0;36mSpotify.search\u001b[1;34m(self, q, limit, offset, type, market)\u001b[0m\n\u001b[0;32m    572\u001b[0m \u001b[39mdef\u001b[39;00m \u001b[39msearch\u001b[39m(\u001b[39mself\u001b[39m, q, limit\u001b[39m=\u001b[39m\u001b[39m10\u001b[39m, offset\u001b[39m=\u001b[39m\u001b[39m0\u001b[39m, \u001b[39mtype\u001b[39m\u001b[39m=\u001b[39m\u001b[39m\"\u001b[39m\u001b[39mtrack\u001b[39m\u001b[39m\"\u001b[39m, market\u001b[39m=\u001b[39m\u001b[39mNone\u001b[39;00m):\n\u001b[0;32m    573\u001b[0m \u001b[39m    \u001b[39m\u001b[39m\"\"\" searches for an item\u001b[39;00m\n\u001b[0;32m    574\u001b[0m \n\u001b[0;32m    575\u001b[0m \u001b[39m        Parameters:\u001b[39;00m\n\u001b[1;32m   (...)\u001b[0m\n\u001b[0;32m    585\u001b[0m \u001b[39m                       from_token.\u001b[39;00m\n\u001b[0;32m    586\u001b[0m \u001b[39m    \"\"\"\u001b[39;00m\n\u001b[1;32m--> 587\u001b[0m     \u001b[39mreturn\u001b[39;00m \u001b[39mself\u001b[39;49m\u001b[39m.\u001b[39;49m_get(\n\u001b[0;32m    588\u001b[0m         \u001b[39m\"\u001b[39;49m\u001b[39msearch\u001b[39;49m\u001b[39m\"\u001b[39;49m, q\u001b[39m=\u001b[39;49mq, limit\u001b[39m=\u001b[39;49mlimit, offset\u001b[39m=\u001b[39;49moffset, \u001b[39mtype\u001b[39;49m\u001b[39m=\u001b[39;49m\u001b[39mtype\u001b[39;49m, market\u001b[39m=\u001b[39;49mmarket\n\u001b[0;32m    589\u001b[0m     )\n",
      "File \u001b[1;32m~\\AppData\\Roaming\\Python\\Python311\\site-packages\\spotipy\\client.py:323\u001b[0m, in \u001b[0;36mSpotify._get\u001b[1;34m(self, url, args, payload, **kwargs)\u001b[0m\n\u001b[0;32m    320\u001b[0m \u001b[39mif\u001b[39;00m args:\n\u001b[0;32m    321\u001b[0m     kwargs\u001b[39m.\u001b[39mupdate(args)\n\u001b[1;32m--> 323\u001b[0m \u001b[39mreturn\u001b[39;00m \u001b[39mself\u001b[39;49m\u001b[39m.\u001b[39;49m_internal_call(\u001b[39m\"\u001b[39;49m\u001b[39mGET\u001b[39;49m\u001b[39m\"\u001b[39;49m, url, payload, kwargs)\n",
      "File \u001b[1;32m~\\AppData\\Roaming\\Python\\Python311\\site-packages\\spotipy\\client.py:293\u001b[0m, in \u001b[0;36mSpotify._internal_call\u001b[1;34m(self, method, url, payload, params)\u001b[0m\n\u001b[0;32m    286\u001b[0m         reason \u001b[39m=\u001b[39m \u001b[39mNone\u001b[39;00m\n\u001b[0;32m    288\u001b[0m     logger\u001b[39m.\u001b[39merror(\n\u001b[0;32m    289\u001b[0m         \u001b[39m'\u001b[39m\u001b[39mHTTP Error for \u001b[39m\u001b[39m%s\u001b[39;00m\u001b[39m to \u001b[39m\u001b[39m%s\u001b[39;00m\u001b[39m with Params: \u001b[39m\u001b[39m%s\u001b[39;00m\u001b[39m returned \u001b[39m\u001b[39m%s\u001b[39;00m\u001b[39m due to \u001b[39m\u001b[39m%s\u001b[39;00m\u001b[39m'\u001b[39m,\n\u001b[0;32m    290\u001b[0m         method, url, args\u001b[39m.\u001b[39mget(\u001b[39m\"\u001b[39m\u001b[39mparams\u001b[39m\u001b[39m\"\u001b[39m), response\u001b[39m.\u001b[39mstatus_code, msg\n\u001b[0;32m    291\u001b[0m     )\n\u001b[1;32m--> 293\u001b[0m     \u001b[39mraise\u001b[39;00m SpotifyException(\n\u001b[0;32m    294\u001b[0m         response\u001b[39m.\u001b[39mstatus_code,\n\u001b[0;32m    295\u001b[0m         \u001b[39m-\u001b[39m\u001b[39m1\u001b[39m,\n\u001b[0;32m    296\u001b[0m         \u001b[39m\"\u001b[39m\u001b[39m%s\u001b[39;00m\u001b[39m:\u001b[39m\u001b[39m\\n\u001b[39;00m\u001b[39m \u001b[39m\u001b[39m%s\u001b[39;00m\u001b[39m\"\u001b[39m \u001b[39m%\u001b[39m (response\u001b[39m.\u001b[39murl, msg),\n\u001b[0;32m    297\u001b[0m         reason\u001b[39m=\u001b[39mreason,\n\u001b[0;32m    298\u001b[0m         headers\u001b[39m=\u001b[39mresponse\u001b[39m.\u001b[39mheaders,\n\u001b[0;32m    299\u001b[0m     )\n\u001b[0;32m    300\u001b[0m \u001b[39mexcept\u001b[39;00m requests\u001b[39m.\u001b[39mexceptions\u001b[39m.\u001b[39mRetryError \u001b[39mas\u001b[39;00m retry_error:\n\u001b[0;32m    301\u001b[0m     request \u001b[39m=\u001b[39m retry_error\u001b[39m.\u001b[39mrequest\n",
      "\u001b[1;31mSpotifyException\u001b[0m: http status: 400, code:-1 - https://api.spotify.com/v1/search?q=year%3A2023&limit=50&offset=1000&type=track&market=US&market=CA&market=UK&market=AU&market=KR&market=NZ&market=SG&market=IN:\n Bad request., reason: None"
     ]
    }
   ],
   "source": [
    "for i in range(0,1500,50):\n",
    "    print(i)\n",
    "    tracks = sp.search(q='year:2023', type = 'track', market = ['US','CA','UK','AU','KR','NZ','SG','IN'] , limit = 50, offset = i)\n",
    "\n",
    "    # Creating an empty lists for track features\n",
    "    artist = []\n",
    "    track = []\n",
    "    track_popularity = []\n",
    "    artist_id = []\n",
    "    track_id = []\n",
    "    length = []\n",
    "    album= []\n",
    "\n",
    "    for i, j in enumerate(tracks['tracks']['items']):\n",
    "   \n",
    "        album.append(j['album']['name'])\n",
    "        artist.append(j['artists'][0]['name'])\n",
    "        artist_id.append(j['artists'][0]['id'])\n",
    "        track.append(j['name'])\n",
    "        track_id.append(j['id'])\n",
    "        track_popularity.append(j['popularity'])\n",
    "        length.append(j['duration_ms'])\n",
    "\n",
    "   # Store in the dataframe\n",
    "    df = pd.DataFrame({'Artist' : artist, 'Track' : track, 'Track_id' : track_id, 'Track_popularity' : track_popularity, 'Artist_id' : artist_id,'Album':album ,'Length' : length})\n",
    "\n",
    "    artist_popularity = []\n",
    "    genres = []\n",
    "    followers = []\n",
    "    artist_image = []\n",
    "    for i in artist_id:\n",
    "        artist = sp.artist(i)\n",
    "        artist_popularity.append(artist['popularity'])\n",
    "        genres.append(artist['genres'])\n",
    "        followers.append(artist['followers']['total'])\n",
    "        artist_image.append(artist['images'][0]['url'])\n",
    "    #Assigning the above features into dataframe 'df'\n",
    "    df = df.assign(Artist_Popularity = artist_popularity, Genres = genres, Followers= followers,Artist_image =artist_image)\n",
    "\n",
    "    #Creating a empty list\n",
    "    track_features =[]\n",
    "\n",
    "    #Extracting the track features by looping into track id and creating a new dataframe called \"tfeatures\"\n",
    "    for i in df['Track_id']:\n",
    "        feature = sp.audio_features(i)\n",
    "        track_features.append(feature)\n",
    "        tfeatures = pd.DataFrame(columns = ['danceability', 'energy', 'key', 'loudness', 'mode', 'speechiness', 'acousticness', 'instrumentalness', 'liveness', 'valence', 'tempo', 'type', 'id', 'uri', 'track_href', 'analysis_url', 'duration_ms', 'time_signature'])\n",
    "        for j in track_features:\n",
    "            for k in j:\n",
    "                tfeatures = tfeatures.append(k, ignore_index=True)\n",
    "                # Suppress all warnings\n",
    "                warnings.filterwarnings(\"ignore\")\n",
    "    \n",
    "    # Merging Track and Audio Features and stored in 'df1'\n",
    "    df1 = pd.merge(df, tfeatures, how = 'inner', left_on = 'Track_id', right_on = 'id')\n",
    "    # Dropping the unwanted features\n",
    "    df1 = df1[['Artist', 'Track', 'Track_id', 'Track_popularity', 'Artist_id','Artist_Popularity','Album','Artist_image' ,'Genres', 'Followers', 'danceability','energy', 'key', 'loudness', 'mode', 'speechiness', 'acousticness','instrumentalness', 'liveness', 'valence', 'tempo', 'duration_ms']]\n",
    "    #Capitalizing the Artist and Track\n",
    "    df1['Artist'] = df1['Artist'].str.capitalize()\n",
    "    df1['Track'] = df1['Track'].str.capitalize()\n",
    "    # Changing the data type\n",
    "    df1['key'] = df1['key'].astype(int)\n",
    "    df1['mode'] = df1['mode'].astype(int)\n",
    "    df1['instrumentalness'] = df1['instrumentalness'].astype(float)\n",
    "    df1['duration_ms'] = df1['duration_ms'].astype(int)\n",
    "    # Duration_ms in milliseconds. Convert into minutes\n",
    "    df1['duration_ms'] = df1.apply(lambda x: round(x['duration_ms']/60000,2), axis=1)\n",
    "\n",
    "    # Filter rows with non-null album_name and keep the first occurrence of each track_id\n",
    "    df = df[df['Album'].notnull()].drop_duplicates(subset=['Track_id'], keep='first')\n",
    "\n",
    "     \n",
    "\n",
    "\n",
    "    for index, row in df1.iterrows():\n",
    "       \n",
    "        dict_spotify = row.to_dict()\n",
    "        producer.send('spotify',value=dict_spotify)\n",
    "\n"
   ]
  }
 ],
 "metadata": {
  "kernelspec": {
   "display_name": "Python 3",
   "language": "python",
   "name": "python3"
  },
  "language_info": {
   "codemirror_mode": {
    "name": "ipython",
    "version": 3
   },
   "file_extension": ".py",
   "mimetype": "text/x-python",
   "name": "python",
   "nbconvert_exporter": "python",
   "pygments_lexer": "ipython3",
   "version": "3.11.2"
  },
  "orig_nbformat": 4
 },
 "nbformat": 4,
 "nbformat_minor": 2
}
